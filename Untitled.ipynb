{
 "cells": [
  {
   "cell_type": "code",
   "execution_count": 8,
   "id": "b812c99e-7214-4fde-8804-5ab69c0f0642",
   "metadata": {},
   "outputs": [
    {
     "name": "stdin",
     "output_type": "stream",
     "text": [
      "Enter your % marks :  60\n"
     ]
    },
    {
     "name": "stdout",
     "output_type": "stream",
     "text": [
      "Grade C\n"
     ]
    }
   ],
   "source": [
    "##1 Write a program to accept percentage from the user and display the grade according to the following citeria :\n",
    "\n",
    "percent_marks = int(input(\"Enter your % marks : \"))\n",
    "\n",
    "if percent_marks > 90 :\n",
    "     print(\"Grade A\")\n",
    "elif  80 < percent_marks <= 90 :\n",
    "     print(\"Grade B\")\n",
    "elif  60 <= percent_marks <= 80 :\n",
    "     print(\"Grade C\")\n",
    "else :\n",
    "    print(\"Grade D\")    "
   ]
  },
  {
   "cell_type": "code",
   "execution_count": 12,
   "id": "f529c7c2-b36b-41ab-b5c0-dca3a0e393ce",
   "metadata": {},
   "outputs": [
    {
     "name": "stdin",
     "output_type": "stream",
     "text": [
      "Enter the cost price :  10000\n"
     ]
    },
    {
     "name": "stdout",
     "output_type": "stream",
     "text": [
      "Tax : 5 %\n"
     ]
    }
   ],
   "source": [
    "##2 Write a program to accept the cost price of a bike and display the road tax to be paid according to the following criteria:\n",
    "\n",
    "cost_price= int(input(\"Enter the cost price : \"))\n",
    "\n",
    "if cost_price > 100000:\n",
    "    print(\"Tax : 15 %\")\n",
    "elif 50000 < cost_price <= 100000:\n",
    "    print(\"Tax : 10 %\")\n",
    "else :\n",
    "    print(\"Tax : 5 %\")"
   ]
  },
  {
   "cell_type": "code",
   "execution_count": 15,
   "id": "9ad0de06-85dd-4a4c-bbd5-6a5e31faed73",
   "metadata": {},
   "outputs": [
    {
     "name": "stdin",
     "output_type": "stream",
     "text": [
      "Enter the City name :  Jaipur\n"
     ]
    },
    {
     "name": "stdout",
     "output_type": "stream",
     "text": [
      "Jal Mahal\n"
     ]
    }
   ],
   "source": [
    "##3 Accept any city from the user and display monuments of that city :\n",
    "\n",
    "city_name = input(\"Enter the City name : \")\n",
    "\n",
    "if city_name == \"Delhi\" :\n",
    "    print(\"Red Fort\")\n",
    "elif city_name == \"Agra\" :\n",
    "    print(\"Taj Mahal\")\n",
    "elif city_name == \"Jaipur\" :\n",
    "    print(\"Jal Mahal\")"
   ]
  },
  {
   "cell_type": "code",
   "execution_count": 1,
   "id": "0ceff32c-3e0d-485d-91d9-35b4755d3aad",
   "metadata": {},
   "outputs": [
    {
     "name": "stdin",
     "output_type": "stream",
     "text": [
      "Enter the number :  10\n"
     ]
    },
    {
     "name": "stdout",
     "output_type": "stream",
     "text": [
      "0\n"
     ]
    }
   ],
   "source": [
    "##4 Check how many times a number can be divided by 3 before it is less than or equal to 10 .\n",
    "\n",
    "num = int(input(\"Enter the number : \"))\n",
    "\n",
    "count  = 0 \n",
    "while num > 10 :\n",
    "    num = num/3 \n",
    "    count = count +1 \n",
    "print(count)"
   ]
  },
  {
   "cell_type": "code",
   "execution_count": 2,
   "id": "9c46ad6c-b7a4-4487-89a5-6159e65b5cb0",
   "metadata": {
    "tags": []
   },
   "outputs": [
    {
     "name": "stdout",
     "output_type": "stream",
     "text": [
      "1\n",
      "4\n",
      "9\n",
      "16\n",
      "25\n",
      "36\n",
      "49\n",
      "64\n",
      "81\n",
      "100\n",
      "121\n",
      "144\n",
      "169\n",
      "196\n",
      "225\n",
      "256\n",
      "289\n",
      "324\n",
      "361\n",
      "400\n",
      "441\n",
      "484\n",
      "529\n",
      "576\n",
      "625\n",
      "676\n",
      "729\n",
      "784\n",
      "841\n",
      "900\n",
      "961\n"
     ]
    }
   ],
   "source": [
    "''' Why and When to use a while loop in Python , give a detailed description with example .\n",
    "\n",
    "Python While Loop is used to execute a block of statements repeatedly until a given condition is satisfied or until the condition is True . And when the condition becomes false, the loop stops .\n",
    "A while Loop is used WHEN we don't know how many times the loop should run , so its based on a condition rather then the number of times the loop should run before it breaks .\n",
    "\n",
    "For example if we need to print square of N numbers until the square of a number becomes equal or less than 1000:'''\n",
    "\n",
    "i = 1\n",
    "while i**2 < 1000:\n",
    "    print(i**2)\n",
    "    i += 1          "
   ]
  },
  {
   "cell_type": "code",
   "execution_count": 3,
   "id": "c4c6d241-5cd2-442e-9bba-479b3ea2775d",
   "metadata": {},
   "outputs": [
    {
     "name": "stdout",
     "output_type": "stream",
     "text": [
      "1 \n",
      "1 2 \n",
      "1 2 3 \n",
      "1 2 3 4 \n",
      "1 2 3 4 5 \n"
     ]
    }
   ],
   "source": [
    "##6 Use Nested While loop to print 3 different pattern :\n",
    "\n",
    "#First Pattern :\n",
    "\n",
    "i=1\n",
    "while i<=5:\n",
    "    j=1\n",
    "    while j<=i:\n",
    "        print(j,end=\" \")\n",
    "        j=j+1\n",
    "    print(\"\")\n",
    "    i=i+1\n"
   ]
  },
  {
   "cell_type": "code",
   "execution_count": 4,
   "id": "9c080b5b-8346-4878-94a0-ef0e10e7a19d",
   "metadata": {},
   "outputs": [
    {
     "name": "stdout",
     "output_type": "stream",
     "text": [
      "[[0, 0], [1, 0], [2, 0]]\n"
     ]
    }
   ],
   "source": [
    "# Second Pattern : \n",
    "\n",
    "list = []\n",
    "i = 0 \n",
    "while i < 3:\n",
    "    j =  0\n",
    "    while j < 3:\n",
    "        if j == 1 :\n",
    "            break\n",
    "        list.append([i,j])\n",
    "        j+=1\n",
    "    i+=1\n",
    "print(list)\n"
   ]
  },
  {
   "cell_type": "code",
   "execution_count": 5,
   "id": "9a0127f4-e99b-47d1-b233-ea26f85e2ad9",
   "metadata": {},
   "outputs": [
    {
     "name": "stdout",
     "output_type": "stream",
     "text": [
      "* * \n",
      "* * * * * \n",
      "* * * * * * * * * \n",
      "* * * * * * * * * * * * * * \n",
      "* * * * * * * * * * * * * * * * * * * * \n",
      "* * * * * * * * * * * * * * * * * * * * * * * * * * * \n",
      "* * * * * * * * * * * * * * * * * * * * * * * * * * * * * * * * * * * \n"
     ]
    }
   ],
   "source": [
    "# Third Pattern  (STAIRCASE)\n",
    "\n",
    "i = 1 \n",
    "while i < 8 :\n",
    "    j = 1\n",
    "    while j <= i:\n",
    "        print(\"* \"*(j),end=\"\")\n",
    "        j = j+1\n",
    "    print(\"* \"*(i))\n",
    "    i += 1"
   ]
  },
  {
   "cell_type": "code",
   "execution_count": 7,
   "id": "7020e809-d865-4dd0-a3f0-c6f884d201be",
   "metadata": {},
   "outputs": [
    {
     "name": "stdout",
     "output_type": "stream",
     "text": [
      "10\n",
      "9\n",
      "8\n",
      "7\n",
      "6\n",
      "5\n",
      "4\n",
      "3\n",
      "2\n",
      "1\n"
     ]
    }
   ],
   "source": [
    "##7 Reverse a While Loop to display numbers from 10 to 1 .\n",
    "\n",
    "count = 10 \n",
    "while count >= 1:\n",
    "    print(count)\n",
    "    count = count - 1"
   ]
  },
  {
   "cell_type": "code",
   "execution_count": null,
   "id": "bf31da38-5099-4448-97be-a3af37888279",
   "metadata": {},
   "outputs": [],
   "source": []
  }
 ],
 "metadata": {
  "kernelspec": {
   "display_name": "Python 3 (ipykernel)",
   "language": "python",
   "name": "python3"
  },
  "language_info": {
   "codemirror_mode": {
    "name": "ipython",
    "version": 3
   },
   "file_extension": ".py",
   "mimetype": "text/x-python",
   "name": "python",
   "nbconvert_exporter": "python",
   "pygments_lexer": "ipython3",
   "version": "3.10.8"
  }
 },
 "nbformat": 4,
 "nbformat_minor": 5
}
